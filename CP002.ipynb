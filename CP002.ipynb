{
  "nbformat": 4,
  "nbformat_minor": 0,
  "metadata": {
    "colab": {
      "provenance": []
    },
    "kernelspec": {
      "name": "python3",
      "display_name": "Python 3"
    },
    "language_info": {
      "name": "python"
    }
  },
  "cells": [
    {
      "cell_type": "code",
      "execution_count": 51,
      "metadata": {
        "id": "_YfTsduO853C"
      },
      "outputs": [],
      "source": [
        "import pandas as pd\n",
        "import matplotlib.pyplot as plt\n",
        "import math\n",
        "import numpy as np\n",
        "import gdown\n",
        "from sklearn.cluster import KMeans\n",
        "from sklearn.tree import DecisionTreeRegressor, DecisionTreeClassifier\n",
        "from sklearn.neighbors import KNeighborsClassifier\n",
        "from sklearn.linear_model import LinearRegression, LogisticRegression\n",
        "from sklearn.metrics import (mean_squared_error, r2_score, accuracy_score, confusion_matrix, f1_score)\n",
        "from sklearn.ensemble import RandomForestRegressor\n",
        "from sklearn.model_selection import train_test_split\n"
      ]
    },
    {
      "cell_type": "code",
      "source": [
        "from google.colab import drive\n",
        "drive.mount('/content/drive')"
      ],
      "metadata": {
        "colab": {
          "base_uri": "https://localhost:8080/"
        },
        "id": "IraPxstN9RsU",
        "outputId": "71d1c2dd-ee2c-4a6d-8b0c-2c94a26c2c2d"
      },
      "execution_count": 2,
      "outputs": [
        {
          "output_type": "stream",
          "name": "stdout",
          "text": [
            "Mounted at /content/drive\n"
          ]
        }
      ]
    },
    {
      "cell_type": "code",
      "source": [
        "url = 'https://drive.google.com/uc?id=1p-TGJx4b6HK5JhotLcdtLF3mdJOUPiE8'\n",
        "output = \"SolarPrediction.csv\"\n",
        "gdown.download(url, output, quiet=False)\n",
        "\n",
        "df = pd.read_csv(\n",
        "    'SolarPrediction.csv',\n",
        "    sep=',',\n",
        "    na_values=['?'],\n",
        "    low_memory=False,\n",
        "    on_bad_lines='skip'\n",
        ")"
      ],
      "metadata": {
        "colab": {
          "base_uri": "https://localhost:8080/"
        },
        "id": "KUTxu3xj9Tzc",
        "outputId": "7787a19b-9ab6-479a-bba0-11efd7557b38"
      },
      "execution_count": 21,
      "outputs": [
        {
          "output_type": "stream",
          "name": "stderr",
          "text": [
            "Downloading...\n",
            "From: https://drive.google.com/uc?id=1p-TGJx4b6HK5JhotLcdtLF3mdJOUPiE8\n",
            "To: /content/SolarPrediction.csv\n",
            "100%|██████████| 2.96M/2.96M [00:00<00:00, 71.8MB/s]\n"
          ]
        }
      ]
    },
    {
      "cell_type": "code",
      "source": [
        "print(df.columns.tolist())"
      ],
      "metadata": {
        "colab": {
          "base_uri": "https://localhost:8080/"
        },
        "id": "VI1RGkjM_Gjn",
        "outputId": "452b3035-16ff-458b-e4f6-0d5418d70ec4"
      },
      "execution_count": 22,
      "outputs": [
        {
          "output_type": "stream",
          "name": "stdout",
          "text": [
            "['UNIXTime', 'Data', 'Time', 'Radiation', 'Temperature', 'Pressure', 'Humidity', 'WindDirection(Degrees)', 'Speed', 'TimeSunRise', 'TimeSunSet']\n"
          ]
        }
      ]
    },
    {
      "cell_type": "code",
      "source": [
        "y = df[\"Radiation\"]"
      ],
      "metadata": {
        "id": "hlm3PVXyAxEM"
      },
      "execution_count": 23,
      "outputs": []
    },
    {
      "cell_type": "code",
      "source": [
        "X = df[[\"Temperature\", \"Pressure\", \"Humidity\", \"WindDirection(Degrees)\", \"Speed\"]]\n"
      ],
      "metadata": {
        "id": "d6JlbllW_xW7"
      },
      "execution_count": 24,
      "outputs": []
    },
    {
      "cell_type": "code",
      "source": [
        "X_train, X_test, y_train, y_test = train_test_split(X, y, test_size=0.2, random_state=0)"
      ],
      "metadata": {
        "id": "2x-Id5ZwBxW0"
      },
      "execution_count": 27,
      "outputs": []
    },
    {
      "cell_type": "code",
      "source": [
        "Models = {\n",
        "    \"LinearRegression\": LinearRegression(),\n",
        "    \"Decision Tree\": DecisionTreeRegressor(random_state=0),\n",
        "    \"Random Forest\": RandomForestRegressor(random_state=0, n_estimators=100)\n",
        "}"
      ],
      "metadata": {
        "id": "KfjTzaaBBUZE"
      },
      "execution_count": 28,
      "outputs": []
    },
    {
      "cell_type": "code",
      "source": [
        "for name, model in Models.items():\n",
        "  model.fit(X_train, y_train)\n",
        "  y_pred = model.predict(X_test)\n",
        "\n",
        "  r2 = r2_score(y_test, y_pred)\n",
        "  mse = mean_squared_error(y_test, y_pred)\n",
        "  rmse = np.sqrt(mse)\n",
        "\n",
        "  print(f\"Modelo: {name}\")\n",
        "  print(f\"R²: {r2: .2f}\")\n",
        "  print(f\"MSE: {mse: .2f}\")\n",
        "  print(f\"RMSE: {rmse: .2f}\")\n"
      ],
      "metadata": {
        "colab": {
          "base_uri": "https://localhost:8080/"
        },
        "id": "F-WKXzkSCa0M",
        "outputId": "a5eebd68-040a-4712-d261-11bd8cdeecb0"
      },
      "execution_count": 33,
      "outputs": [
        {
          "output_type": "stream",
          "name": "stdout",
          "text": [
            "Modelo: LinearRegression\n",
            "R²:  0.57\n",
            "MSE:  43953.69\n",
            "RMSE:  209.65\n",
            "Modelo: Decision Tree\n",
            "R²:  0.52\n",
            "MSE:  48815.01\n",
            "RMSE:  220.94\n",
            "Modelo: Random Forest\n",
            "R²:  0.74\n",
            "MSE:  26056.46\n",
            "RMSE:  161.42\n"
          ]
        }
      ]
    },
    {
      "cell_type": "code",
      "source": [
        "## O modelo que melhor explica é o Random Forest, modelo não linear."
      ],
      "metadata": {
        "id": "-vHhI7NFDbdi"
      },
      "execution_count": null,
      "outputs": []
    },
    {
      "cell_type": "code",
      "source": [
        "url = \"https://drive.google.com/uc?id=1gB4AXCUOaJvMFZe--Xlo42q92_DhYuhq\"\n",
        "output = \"T1.csv\"\n",
        "gdown.download(url, output, quiet=False)\n",
        "\n",
        "df2 = pd.read_csv(\n",
        "    'T1.csv',\n",
        "    sep=',',\n",
        "    na_values=['?'],\n",
        "    low_memory=False,\n",
        "    on_bad_lines='skip'\n",
        ")"
      ],
      "metadata": {
        "colab": {
          "base_uri": "https://localhost:8080/"
        },
        "id": "d3pbDae9DoJC",
        "outputId": "ca3f1316-88be-4a73-8b09-f22ad4c51f59"
      },
      "execution_count": 40,
      "outputs": [
        {
          "output_type": "stream",
          "name": "stderr",
          "text": [
            "Downloading...\n",
            "From: https://drive.google.com/uc?id=1gB4AXCUOaJvMFZe--Xlo42q92_DhYuhq\n",
            "To: /content/T1.csv\n",
            "100%|██████████| 3.97M/3.97M [00:00<00:00, 34.6MB/s]\n"
          ]
        }
      ]
    },
    {
      "cell_type": "code",
      "source": [
        "print(df.columns.tolist())"
      ],
      "metadata": {
        "colab": {
          "base_uri": "https://localhost:8080/"
        },
        "id": "Gexd387JEDNy",
        "outputId": "97aeca5b-d87f-4fa8-d8e7-948144dbcc7b"
      },
      "execution_count": 36,
      "outputs": [
        {
          "output_type": "stream",
          "name": "stdout",
          "text": [
            "['Date/Time', 'LV ActivePower (kW)', 'Wind Speed (m/s)', 'Theoretical_Power_Curve (KWh)', 'Wind Direction (°)']\n"
          ]
        }
      ]
    },
    {
      "cell_type": "code",
      "source": [
        "threshold = 1000\n",
        "df2[\"stability\"] = (df2[\"LV ActivePower (kW)\"] >= threshold).astype(int)"
      ],
      "metadata": {
        "id": "u2T8GpzSFCb8"
      },
      "execution_count": 41,
      "outputs": []
    },
    {
      "cell_type": "code",
      "source": [
        "y = df2[\"stability\"]"
      ],
      "metadata": {
        "id": "tlrMFLqWFf60"
      },
      "execution_count": 42,
      "outputs": []
    },
    {
      "cell_type": "code",
      "source": [
        "X = df2[['LV ActivePower (kW)', 'Wind Speed (m/s)', 'Theoretical_Power_Curve (KWh)', 'Wind Direction (°)']]"
      ],
      "metadata": {
        "id": "bg673_sHFmiS"
      },
      "execution_count": 43,
      "outputs": []
    },
    {
      "cell_type": "code",
      "source": [
        "X_train, X_test, y_train, y_test = train_test_split(X, y, test_size=0.2, random_state=0, shuffle=True)"
      ],
      "metadata": {
        "id": "7pCyx-WRFrPb"
      },
      "execution_count": 55,
      "outputs": []
    },
    {
      "cell_type": "code",
      "source": [
        "Models = {\n",
        "    \"Decision Tree\": DecisionTreeClassifier(random_state=0),\n",
        "    \"KNN\": KNeighborsClassifier(),\n",
        "    \"Logistic Regression\": LogisticRegression(max_iter=1000)\n",
        "}\n",
        "\n",
        "for name, model in Models.items():\n",
        "  model.fit(X_train, y_train)\n",
        "  y_pred = model.predict(X_test)\n",
        "\n",
        "  acc = accuracy_score(y_test, y_pred)\n",
        "  cm = confusion_matrix(y_test, y_pred)\n",
        "  f1 = f1_score(y_test, y_pred)\n",
        "\n",
        "  print(f\"Modelo: {name}\")\n",
        "  print(f\"Acurácia: {acc: .2f}\")\n",
        "  print(f\"Matriz de confusao: {cm}\")\n",
        "  print(f\"F1 Score: {f1: .2f}\")"
      ],
      "metadata": {
        "colab": {
          "base_uri": "https://localhost:8080/"
        },
        "id": "fOGMVbQiFukb",
        "outputId": "cec4cd47-d8ef-49d1-9041-269523e981d8"
      },
      "execution_count": 56,
      "outputs": [
        {
          "output_type": "stream",
          "name": "stdout",
          "text": [
            "Modelo: Decision Tree\n",
            "Acurácia:  1.00\n",
            "Matriz de confusao: [[5441    0]\n",
            " [   0 4665]]\n",
            "F1 Score:  1.00\n",
            "Modelo: KNN\n",
            "Acurácia:  1.00\n",
            "Matriz de confusao: [[5430   11]\n",
            " [   7 4658]]\n",
            "F1 Score:  1.00\n",
            "Modelo: Logistic Regression\n",
            "Acurácia:  1.00\n",
            "Matriz de confusao: [[5441    0]\n",
            " [   0 4665]]\n",
            "F1 Score:  1.00\n"
          ]
        }
      ]
    },
    {
      "cell_type": "code",
      "source": [
        "## O resultado saiu perfeito, não sei se está correto, mas os melhores modelos dentre os 3 são : Decision Tree e Logistic Regression\n"
      ],
      "metadata": {
        "id": "ooXHG25jHf_n"
      },
      "execution_count": 61,
      "outputs": []
    }
  ]
}