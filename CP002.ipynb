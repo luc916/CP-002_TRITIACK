{
  "nbformat": 4,
  "nbformat_minor": 0,
  "metadata": {
    "colab": {
      "provenance": []
    },
    "kernelspec": {
      "name": "python3",
      "display_name": "Python 3"
    },
    "language_info": {
      "name": "python"
    }
  },
  "cells": [
    {
      "cell_type": "code",
      "execution_count": 68,
      "metadata": {
        "id": "_YfTsduO853C"
      },
      "outputs": [],
      "source": [
        "import pandas as pd\n",
        "import matplotlib.pyplot as plt\n",
        "import math\n",
        "import numpy as np\n",
        "import gdown\n",
        "from sklearn.cluster import KMeans\n",
        "from sklearn.tree import DecisionTreeRegressor, DecisionTreeClassifier\n",
        "from sklearn.neighbors import KNeighborsClassifier\n",
        "from sklearn.linear_model import LinearRegression, LogisticRegression\n",
        "from sklearn.metrics import (mean_squared_error, r2_score, accuracy_score, confusion_matrix, f1_score, classification_report)\n",
        "from sklearn.ensemble import RandomForestRegressor\n",
        "from sklearn.model_selection import train_test_split\n",
        "from sklearn.svm import SVC\n"
      ]
    },
    {
      "cell_type": "code",
      "source": [
        "from google.colab import drive\n",
        "drive.mount('/content/drive')"
      ],
      "metadata": {
        "colab": {
          "base_uri": "https://localhost:8080/"
        },
        "id": "IraPxstN9RsU",
        "outputId": "86290c10-81bf-474c-f25a-0f6fa48b5b96"
      },
      "execution_count": 63,
      "outputs": [
        {
          "output_type": "stream",
          "name": "stdout",
          "text": [
            "Drive already mounted at /content/drive; to attempt to forcibly remount, call drive.mount(\"/content/drive\", force_remount=True).\n"
          ]
        }
      ]
    },
    {
      "cell_type": "code",
      "source": [
        "url = 'https://drive.google.com/uc?id=1p-TGJx4b6HK5JhotLcdtLF3mdJOUPiE8'\n",
        "output = \"SolarPrediction.csv\"\n",
        "gdown.download(url, output, quiet=False)\n",
        "\n",
        "df = pd.read_csv(\n",
        "    'SolarPrediction.csv',\n",
        "    sep=',',\n",
        "    na_values=['?'],\n",
        "    low_memory=False,\n",
        "    on_bad_lines='skip'\n",
        ")"
      ],
      "metadata": {
        "colab": {
          "base_uri": "https://localhost:8080/"
        },
        "id": "KUTxu3xj9Tzc",
        "outputId": "aa989ba8-1eab-44f2-a98b-729f55517b47"
      },
      "execution_count": 64,
      "outputs": [
        {
          "output_type": "stream",
          "name": "stderr",
          "text": [
            "Downloading...\n",
            "From: https://drive.google.com/uc?id=1p-TGJx4b6HK5JhotLcdtLF3mdJOUPiE8\n",
            "To: /content/SolarPrediction.csv\n",
            "100%|██████████| 2.96M/2.96M [00:00<00:00, 227MB/s]\n"
          ]
        }
      ]
    },
    {
      "cell_type": "code",
      "source": [
        "print(df.columns.tolist())"
      ],
      "metadata": {
        "colab": {
          "base_uri": "https://localhost:8080/"
        },
        "id": "VI1RGkjM_Gjn",
        "outputId": "452b3035-16ff-458b-e4f6-0d5418d70ec4"
      },
      "execution_count": null,
      "outputs": [
        {
          "output_type": "stream",
          "name": "stdout",
          "text": [
            "['UNIXTime', 'Data', 'Time', 'Radiation', 'Temperature', 'Pressure', 'Humidity', 'WindDirection(Degrees)', 'Speed', 'TimeSunRise', 'TimeSunSet']\n"
          ]
        }
      ]
    },
    {
      "cell_type": "code",
      "source": [
        "## CP002_001_SERS.pdf\n",
        "## Parte 1"
      ],
      "metadata": {
        "id": "LYObyEJPej3v"
      },
      "execution_count": null,
      "outputs": []
    },
    {
      "cell_type": "code",
      "source": [
        "y = df[\"Radiation\"]"
      ],
      "metadata": {
        "id": "hlm3PVXyAxEM"
      },
      "execution_count": null,
      "outputs": []
    },
    {
      "cell_type": "code",
      "source": [
        "X = df[[\"Temperature\", \"Pressure\", \"Humidity\", \"WindDirection(Degrees)\", \"Speed\"]]\n"
      ],
      "metadata": {
        "id": "d6JlbllW_xW7"
      },
      "execution_count": null,
      "outputs": []
    },
    {
      "cell_type": "code",
      "source": [
        "X_train, X_test, y_train, y_test = train_test_split(X, y, test_size=0.2, random_state=0)"
      ],
      "metadata": {
        "id": "2x-Id5ZwBxW0"
      },
      "execution_count": null,
      "outputs": []
    },
    {
      "cell_type": "code",
      "source": [
        "Models = {\n",
        "    \"LinearRegression\": LinearRegression(),\n",
        "    \"Decision Tree\": DecisionTreeRegressor(random_state=0),\n",
        "    \"Random Forest\": RandomForestRegressor(random_state=0, n_estimators=100)\n",
        "}"
      ],
      "metadata": {
        "id": "KfjTzaaBBUZE"
      },
      "execution_count": null,
      "outputs": []
    },
    {
      "cell_type": "code",
      "source": [
        "for name, model in Models.items():\n",
        "  model.fit(X_train, y_train)\n",
        "  y_pred = model.predict(X_test)\n",
        "\n",
        "  r2 = r2_score(y_test, y_pred)\n",
        "  mse = mean_squared_error(y_test, y_pred)\n",
        "  rmse = np.sqrt(mse)\n",
        "\n",
        "  print(f\"Modelo: {name}\")\n",
        "  print(f\"R²: {r2: .2f}\")\n",
        "  print(f\"MSE: {mse: .2f}\")\n",
        "  print(f\"RMSE: {rmse: .2f}\")\n"
      ],
      "metadata": {
        "colab": {
          "base_uri": "https://localhost:8080/"
        },
        "id": "F-WKXzkSCa0M",
        "outputId": "a5eebd68-040a-4712-d261-11bd8cdeecb0"
      },
      "execution_count": null,
      "outputs": [
        {
          "output_type": "stream",
          "name": "stdout",
          "text": [
            "Modelo: LinearRegression\n",
            "R²:  0.57\n",
            "MSE:  43953.69\n",
            "RMSE:  209.65\n",
            "Modelo: Decision Tree\n",
            "R²:  0.52\n",
            "MSE:  48815.01\n",
            "RMSE:  220.94\n",
            "Modelo: Random Forest\n",
            "R²:  0.74\n",
            "MSE:  26056.46\n",
            "RMSE:  161.42\n"
          ]
        }
      ]
    },
    {
      "cell_type": "code",
      "source": [
        "## O modelo que melhor explica é o Random Forest, modelo não linear."
      ],
      "metadata": {
        "id": "-vHhI7NFDbdi"
      },
      "execution_count": null,
      "outputs": []
    },
    {
      "cell_type": "code",
      "source": [
        "url = \"https://drive.google.com/uc?id=1gB4AXCUOaJvMFZe--Xlo42q92_DhYuhq\"\n",
        "output = \"T1.csv\"\n",
        "gdown.download(url, output, quiet=False)\n",
        "\n",
        "df2 = pd.read_csv(\n",
        "    'T1.csv',\n",
        "    sep=',',\n",
        "    na_values=['?'],\n",
        "    low_memory=False,\n",
        "    on_bad_lines='skip'\n",
        ")"
      ],
      "metadata": {
        "colab": {
          "base_uri": "https://localhost:8080/"
        },
        "id": "d3pbDae9DoJC",
        "outputId": "ca3f1316-88be-4a73-8b09-f22ad4c51f59"
      },
      "execution_count": null,
      "outputs": [
        {
          "output_type": "stream",
          "name": "stderr",
          "text": [
            "Downloading...\n",
            "From: https://drive.google.com/uc?id=1gB4AXCUOaJvMFZe--Xlo42q92_DhYuhq\n",
            "To: /content/T1.csv\n",
            "100%|██████████| 3.97M/3.97M [00:00<00:00, 34.6MB/s]\n"
          ]
        }
      ]
    },
    {
      "cell_type": "code",
      "source": [
        "print(df.columns.tolist())"
      ],
      "metadata": {
        "colab": {
          "base_uri": "https://localhost:8080/"
        },
        "id": "Gexd387JEDNy",
        "outputId": "97aeca5b-d87f-4fa8-d8e7-948144dbcc7b"
      },
      "execution_count": null,
      "outputs": [
        {
          "output_type": "stream",
          "name": "stdout",
          "text": [
            "['Date/Time', 'LV ActivePower (kW)', 'Wind Speed (m/s)', 'Theoretical_Power_Curve (KWh)', 'Wind Direction (°)']\n"
          ]
        }
      ]
    },
    {
      "cell_type": "code",
      "source": [
        "## CP002_001_SERS.pdf\n",
        "## Parte 2"
      ],
      "metadata": {
        "id": "yx-91E8dexeM"
      },
      "execution_count": null,
      "outputs": []
    },
    {
      "cell_type": "code",
      "source": [
        "threshold = 1000\n",
        "df2[\"stability\"] = (df2[\"LV ActivePower (kW)\"] >= threshold).astype(int)"
      ],
      "metadata": {
        "id": "u2T8GpzSFCb8"
      },
      "execution_count": null,
      "outputs": []
    },
    {
      "cell_type": "code",
      "source": [
        "y = df2[\"stability\"]"
      ],
      "metadata": {
        "id": "tlrMFLqWFf60"
      },
      "execution_count": null,
      "outputs": []
    },
    {
      "cell_type": "code",
      "source": [
        "X = df2[['LV ActivePower (kW)', 'Wind Speed (m/s)', 'Theoretical_Power_Curve (KWh)', 'Wind Direction (°)']]"
      ],
      "metadata": {
        "id": "bg673_sHFmiS"
      },
      "execution_count": null,
      "outputs": []
    },
    {
      "cell_type": "code",
      "source": [
        "X_train, X_test, y_train, y_test = train_test_split(X, y, test_size=0.2, random_state=0, shuffle=True)"
      ],
      "metadata": {
        "id": "7pCyx-WRFrPb"
      },
      "execution_count": null,
      "outputs": []
    },
    {
      "cell_type": "code",
      "source": [
        "Models = {\n",
        "    \"Decision Tree\": DecisionTreeClassifier(random_state=0),\n",
        "    \"KNN\": KNeighborsClassifier(),\n",
        "    \"Logistic Regression\": LogisticRegression(max_iter=1000)\n",
        "}\n",
        "\n",
        "for name, model in Models.items():\n",
        "  model.fit(X_train, y_train)\n",
        "  y_pred = model.predict(X_test)\n",
        "\n",
        "  acc = accuracy_score(y_test, y_pred)\n",
        "  cm = confusion_matrix(y_test, y_pred)\n",
        "  f1 = f1_score(y_test, y_pred)\n",
        "\n",
        "  print(f\"Modelo: {name}\")\n",
        "  print(f\"Acurácia: {acc: .2f}\")\n",
        "  print(f\"Matriz de confusao: {cm}\")\n",
        "  print(f\"F1 Score: {f1: .2f}\")"
      ],
      "metadata": {
        "colab": {
          "base_uri": "https://localhost:8080/"
        },
        "id": "fOGMVbQiFukb",
        "outputId": "cec4cd47-d8ef-49d1-9041-269523e981d8"
      },
      "execution_count": null,
      "outputs": [
        {
          "output_type": "stream",
          "name": "stdout",
          "text": [
            "Modelo: Decision Tree\n",
            "Acurácia:  1.00\n",
            "Matriz de confusao: [[5441    0]\n",
            " [   0 4665]]\n",
            "F1 Score:  1.00\n",
            "Modelo: KNN\n",
            "Acurácia:  1.00\n",
            "Matriz de confusao: [[5430   11]\n",
            " [   7 4658]]\n",
            "F1 Score:  1.00\n",
            "Modelo: Logistic Regression\n",
            "Acurácia:  1.00\n",
            "Matriz de confusao: [[5441    0]\n",
            " [   0 4665]]\n",
            "F1 Score:  1.00\n"
          ]
        }
      ]
    },
    {
      "cell_type": "code",
      "source": [
        "## O resultado saiu perfeito, não sei se está correto, mas os melhores modelos dentre os 3 são : Decision Tree e Logistic Regression\n"
      ],
      "metadata": {
        "id": "ooXHG25jHf_n"
      },
      "execution_count": null,
      "outputs": []
    },
    {
      "cell_type": "code",
      "source": [
        "## CP002_002_SERS.pdf\n",
        "## Exercicio 1"
      ],
      "metadata": {
        "id": "LAP-HKm5ezRV"
      },
      "execution_count": null,
      "outputs": []
    },
    {
      "cell_type": "code",
      "source": [
        "median_radiation = df['Radiation'].median()\n",
        "df['Radiation_Class'] = df['Radiation'].apply(lambda x: 1 if x > median_radiation else 0)"
      ],
      "metadata": {
        "id": "TEvvCRqxeFrm"
      },
      "execution_count": null,
      "outputs": []
    },
    {
      "cell_type": "code",
      "source": [
        "y = df['Radiation_Class']"
      ],
      "metadata": {
        "id": "MOxcItfreIEc"
      },
      "execution_count": null,
      "outputs": []
    },
    {
      "cell_type": "code",
      "source": [
        "X = df[['Temperature', 'Pressure', 'Humidity', 'WindDirection(Degrees)', 'Speed']]"
      ],
      "metadata": {
        "id": "sc68dMy4eLgi"
      },
      "execution_count": null,
      "outputs": []
    },
    {
      "cell_type": "code",
      "source": [
        "X_train, X_test, y_train, y_test = train_test_split(X, y, test_size=0.3, random_state=0)"
      ],
      "metadata": {
        "id": "9ZxTfc48eMcK"
      },
      "execution_count": null,
      "outputs": []
    },
    {
      "cell_type": "code",
      "source": [
        "scaler = StandardScaler()\n",
        "X_train_scaled = scaler.fit_transform(X_train)\n",
        "X_test_scaled = scaler.transform(X_test)"
      ],
      "metadata": {
        "id": "39y4WJxYeQHK"
      },
      "execution_count": null,
      "outputs": []
    },
    {
      "cell_type": "code",
      "source": [
        "Models = {\n",
        "    \"Decision Tree\": DecisionTreeClassifier(),\n",
        "    \"Random Forest\": RandomForestClassifier(),\n",
        "    \"SVM\": SVC()\n",
        "}\n",
        "\n",
        "for model_name, model in Models.items():\n",
        "    print(f\"Treinando {model_name}...\")\n",
        "\n",
        "    model.fit(X_train_scaled, y_train)\n",
        "\n",
        "    y_pred = model.predict(X_test_scaled)\n",
        "\n",
        "    accuracy = accuracy_score(y_test, y_pred)\n",
        "    cm = confusion_matrix(y_test, y_pred)\n",
        "    report = classification_report(y_test, y_pred)\n",
        "\n",
        "    print(f\"Acurácia do {model_name}: {accuracy:.2f}\")\n",
        "    print(f\"Matriz de Confusão do {model_name}:{cm}\")\n",
        "    print(f\"Relatório de Classificação do {model_name}:{report}\")"
      ],
      "metadata": {
        "colab": {
          "base_uri": "https://localhost:8080/"
        },
        "id": "9aFYv-Yqb8o1",
        "outputId": "7f8435b5-8095-4a97-9732-edce0e39a2dd"
      },
      "execution_count": 69,
      "outputs": [
        {
          "output_type": "stream",
          "name": "stdout",
          "text": [
            "Treinando Decision Tree...\n",
            "Acurácia do Decision Tree: 0.8298\n",
            "Matriz de Confusão do Decision Tree:\n",
            "[[4082  871]\n",
            " [ 798 4055]]\n",
            "Relatório de Classificação do Decision Tree:\n",
            "              precision    recall  f1-score   support\n",
            "\n",
            "           0       0.84      0.82      0.83      4953\n",
            "           1       0.82      0.84      0.83      4853\n",
            "\n",
            "    accuracy                           0.83      9806\n",
            "   macro avg       0.83      0.83      0.83      9806\n",
            "weighted avg       0.83      0.83      0.83      9806\n",
            "\n",
            "--------------------------------------------------\n",
            "Treinando Random Forest...\n",
            "Acurácia do Random Forest: 0.8773\n",
            "Matriz de Confusão do Random Forest:\n",
            "[[4575  378]\n",
            " [ 825 4028]]\n",
            "Relatório de Classificação do Random Forest:\n",
            "              precision    recall  f1-score   support\n",
            "\n",
            "           0       0.85      0.92      0.88      4953\n",
            "           1       0.91      0.83      0.87      4853\n",
            "\n",
            "    accuracy                           0.88      9806\n",
            "   macro avg       0.88      0.88      0.88      9806\n",
            "weighted avg       0.88      0.88      0.88      9806\n",
            "\n",
            "--------------------------------------------------\n",
            "Treinando SVM...\n",
            "Acurácia do SVM: 0.8297\n",
            "Matriz de Confusão do SVM:\n",
            "[[4641  312]\n",
            " [1358 3495]]\n",
            "Relatório de Classificação do SVM:\n",
            "              precision    recall  f1-score   support\n",
            "\n",
            "           0       0.77      0.94      0.85      4953\n",
            "           1       0.92      0.72      0.81      4853\n",
            "\n",
            "    accuracy                           0.83      9806\n",
            "   macro avg       0.85      0.83      0.83      9806\n",
            "weighted avg       0.85      0.83      0.83      9806\n",
            "\n",
            "--------------------------------------------------\n"
          ]
        }
      ]
    },
    {
      "cell_type": "code",
      "source": [
        "## CP002_002_SERS.pdf\n",
        "## Exercicio 2"
      ],
      "metadata": {
        "id": "qSb5hktSe3Tp"
      },
      "execution_count": null,
      "outputs": []
    },
    {
      "cell_type": "code",
      "source": [
        "y = df2['LV ActivePower (kW)']"
      ],
      "metadata": {
        "id": "4vTkV41leWO6"
      },
      "execution_count": null,
      "outputs": []
    },
    {
      "cell_type": "code",
      "source": [
        "X = df2[['Wind Speed (m/s)', 'Wind Direction (°)', 'Theoretical_Power_Curve (KWh)']]"
      ],
      "metadata": {
        "id": "oECYL7PkeWSh"
      },
      "execution_count": null,
      "outputs": []
    },
    {
      "cell_type": "code",
      "source": [
        "X_train, X_test, y_train, y_test = train_test_split(X, y, test_size=0.2, random_state=0)"
      ],
      "metadata": {
        "id": "E8GgA8eKeY3f"
      },
      "execution_count": null,
      "outputs": []
    },
    {
      "cell_type": "code",
      "source": [
        "scaler = StandardScaler()\n",
        "X_train_scaled = scaler.fit_transform(X_train)\n",
        "X_test_scaled = scaler.transform(X_test)"
      ],
      "metadata": {
        "id": "zrzQMJSFeY5n"
      },
      "execution_count": null,
      "outputs": []
    },
    {
      "cell_type": "code",
      "source": [
        "Models = {\n",
        "    \"Linear Regression\": LinearRegression(),\n",
        "    \"Decision Tree Regressor\": DecisionTreeRegressor(),\n",
        "    \"Random Forest Regressor\": RandomForestRegressor()\n",
        "}\n",
        "\n",
        "for model_name, model in Models.items():\n",
        "    print(f\"Treinando {model_name}...\")\n",
        "\n",
        "    model.fit(X_train_scaled, y_train)\n",
        "\n",
        "    y_pred = model.predict(X_test_scaled)\n",
        "\n",
        "    rmse = np.sqrt(mean_squared_error(y_test, y_pred))\n",
        "    r2 = r2_score(y_test, y_pred)\n",
        "\n",
        "    print(f\"RMSE do {model_name}: {rmse:.2f}\")\n",
        "    print(f\"R² do {model_name}: {r2:.2f}\")"
      ],
      "metadata": {
        "colab": {
          "base_uri": "https://localhost:8080/"
        },
        "id": "BI8eBXIgdVxG",
        "outputId": "2fb0b488-dcf9-4648-aefe-3e4ff61ebb5b"
      },
      "execution_count": 72,
      "outputs": [
        {
          "output_type": "stream",
          "name": "stdout",
          "text": [
            "Treinando Linear Regression...\n",
            "RMSE do Linear Regression: 411.7100\n",
            "R² do Linear Regression: 0.9007\n",
            "--------------------------------------------------\n",
            "Treinando Decision Tree Regressor...\n",
            "RMSE do Decision Tree Regressor: 542.5470\n",
            "R² do Decision Tree Regressor: 0.8275\n",
            "--------------------------------------------------\n",
            "Treinando Random Forest Regressor...\n",
            "RMSE do Random Forest Regressor: 412.8437\n",
            "R² do Random Forest Regressor: 0.9001\n",
            "--------------------------------------------------\n"
          ]
        }
      ]
    }
  ]
}